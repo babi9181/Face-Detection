{
 "cells": [
  {
   "cell_type": "code",
   "execution_count": null,
   "metadata": {},
   "outputs": [],
   "source": [
    "# !pip install opencv-python"
   ]
  },
  {
   "cell_type": "markdown",
   "metadata": {},
   "source": [
    "**Haar cascade**\n",
    "\n",
    "It is an object detection method"
   ]
  },
  {
   "cell_type": "code",
   "execution_count": 1,
   "metadata": {},
   "outputs": [],
   "source": [
    "import cv2"
   ]
  },
  {
   "cell_type": "markdown",
   "metadata": {},
   "source": [
    "https://github.com/opencv/opencv/tree/master/data/haarcascades"
   ]
  },
  {
   "cell_type": "code",
   "execution_count": 2,
   "metadata": {},
   "outputs": [],
   "source": [
    "face_cascade=cv2.CascadeClassifier('haarcascade_frontalface_default.xml')"
   ]
  },
  {
   "cell_type": "markdown",
   "metadata": {},
   "source": [
    "#### Image:"
   ]
  },
  {
   "cell_type": "code",
   "execution_count": 3,
   "metadata": {},
   "outputs": [
    {
     "data": {
      "text/plain": [
       "array([[[ 25,  29,  30],\n",
       "        [ 39,  43,  44],\n",
       "        [ 30,  34,  35],\n",
       "        ...,\n",
       "        [ 21,  33,  39],\n",
       "        [ 35,  47,  51],\n",
       "        [ 23,  38,  41]],\n",
       "\n",
       "       [[ 19,  23,  24],\n",
       "        [ 25,  29,  30],\n",
       "        [ 15,  19,  20],\n",
       "        ...,\n",
       "        [ 22,  32,  39],\n",
       "        [ 42,  54,  58],\n",
       "        [ 44,  59,  62]],\n",
       "\n",
       "       [[ 22,  26,  27],\n",
       "        [ 18,  22,  23],\n",
       "        [  9,  13,  14],\n",
       "        ...,\n",
       "        [ 37,  48,  52],\n",
       "        [ 45,  57,  61],\n",
       "        [ 43,  55,  59]],\n",
       "\n",
       "       ...,\n",
       "\n",
       "       [[ 71, 109, 141],\n",
       "        [ 42,  80, 110],\n",
       "        [ 33,  69,  99],\n",
       "        ...,\n",
       "        [ 15,  19,  20],\n",
       "        [ 25,  29,  30],\n",
       "        [ 12,  16,  17]],\n",
       "\n",
       "       [[107, 148, 181],\n",
       "        [ 71, 112, 144],\n",
       "        [ 74, 113, 145],\n",
       "        ...,\n",
       "        [ 11,  15,  16],\n",
       "        [ 42,  46,  47],\n",
       "        [ 32,  36,  37]],\n",
       "\n",
       "       [[ 41,  84, 117],\n",
       "        [ 30,  73, 106],\n",
       "        [ 49,  90, 122],\n",
       "        ...,\n",
       "        [ 13,  17,  18],\n",
       "        [ 19,  23,  24],\n",
       "        [ 17,  21,  22]]], dtype=uint8)"
      ]
     },
     "execution_count": 3,
     "metadata": {},
     "output_type": "execute_result"
    }
   ],
   "source": [
    "img=cv2.imread(r\"C:\\Users\\abhin\\Downloads\\Joseph_Siffrein_Duplessis_-_Benjamin_Franklin_-_Google_Art_Project.jpg\",\n",
    "               cv2.COLOR_BGR2GRAY)\n",
    "img"
   ]
  },
  {
   "cell_type": "code",
   "execution_count": null,
   "metadata": {},
   "outputs": [],
   "source": [
    "cv2.imshow(\"image\",img)  # open a new window to show the image\n",
    "cv2.waitKey(0)          # if you want to close the image press 0\n",
    "cv2.destroyAllWindows() # the window will be closed"
   ]
  },
  {
   "cell_type": "code",
   "execution_count": null,
   "metadata": {},
   "outputs": [],
   "source": [
    "# all together\n",
    "# we are reading an image\n",
    "# we are showing the imgage\n",
    "# we are applying a wait key\n",
    "# we are closing the image\n",
    "img=cv2.imread(r\"C:\\Users\\abhin\\Downloads\\Joseph_Siffrein_Duplessis_-_Benjamin_Franklin_-_Google_Art_Project.jpg\",\n",
    "               cv2.COLOR_BGR2GRAY)\n",
    "\n",
    "cv2.imshow(\"image\",img)  # open a new window to show the image\n",
    "cv2.waitKey(0)          # if you want to close the image press 0\n",
    "cv2.destroyAllWindows()"
   ]
  },
  {
   "cell_type": "markdown",
   "metadata": {},
   "source": [
    "**cv2.rectangle**:\n",
    "    \n",
    "- Image paths\n",
    "\n",
    "- start_window= (5,5)\n",
    "\n",
    "- end_window= (200,200)\n",
    "\n",
    "- BGR : (255,0,0)\n",
    "    \n",
    "- thikness= 3"
   ]
  },
  {
   "cell_type": "code",
   "execution_count": null,
   "metadata": {},
   "outputs": [],
   "source": [
    "img=cv2.imread(r\"C:\\Users\\abhin\\Downloads\\Joseph_Siffrein_Duplessis_-_Benjamin_Franklin_-_Google_Art_Project.jpg\",\n",
    "               cv2.COLOR_BGR2GRAY)\n",
    "\n",
    "start_window=(5,5)\n",
    "end_window= (200,200)\n",
    "color=(0,0,255)\n",
    "thikness=5\n",
    "rec_image=cv2.rectangle(img,\n",
    "              start_window,\n",
    "              end_window,\n",
    "              color,\n",
    "              thikness)\n",
    "\n",
    "cv2.imshow(\"image\",rec_image)\n",
    "\n",
    "cv2.waitKey(0)         \n",
    "cv2.destroyAllWindows()\n",
    "\n",
    "# This is the problem \n",
    "# we need to provide correct values of start window and end window"
   ]
  },
  {
   "cell_type": "code",
   "execution_count": 6,
   "metadata": {},
   "outputs": [
    {
     "name": "stdout",
     "output_type": "stream",
     "text": [
      "[[386 247 422 422]]\n",
      "386 247\n",
      "422 422\n"
     ]
    }
   ],
   "source": [
    "img=cv2.imread(r\"C:\\Users\\abhin\\Downloads\\Joseph_Siffrein_Duplessis_-_Benjamin_Franklin_-_Google_Art_Project.jpg\",cv2.COLOR_BGR2GRAY)\n",
    "face_cascade=cv2.CascadeClassifier('haarcascade_frontalface_default.xml')\n",
    "faces=face_cascade.detectMultiScale(img,1.1,4)\n",
    "print(faces)\n",
    "for (x,y,w,h) in faces:\n",
    "    print(x,y)\n",
    "    print(w,h)\n",
    "    cv2.rectangle(img,(x,y),(x+w,y+h),(0,0,255),3)   # B G  R  Red Is ON"
   ]
  },
  {
   "cell_type": "code",
   "execution_count": 7,
   "metadata": {},
   "outputs": [],
   "source": [
    "cv2.imshow('image',img)\n",
    "cv2.waitKey(0)\n",
    "cv2.destroyAllWindows()"
   ]
  },
  {
   "cell_type": "code",
   "execution_count": 8,
   "metadata": {},
   "outputs": [
    {
     "name": "stdout",
     "output_type": "stream",
     "text": [
      "[[ 535 2137   27   27]\n",
      " [2120 2423   36   36]\n",
      " [ 823 1516   42   42]\n",
      " [ 811   42   33   33]\n",
      " [1749  602   68   68]\n",
      " [2191 2726   60   60]\n",
      " [ 311 2718   43   43]\n",
      " [1883 1570   53   53]\n",
      " [2056 3037   55   55]\n",
      " [3292 2793   56   56]\n",
      " [2750 3096   70   70]\n",
      " [1687  657   91   91]\n",
      " [2445 2994   75   75]\n",
      " [1503 2204   75   75]\n",
      " [3250 1527  145  145]\n",
      " [ 453 2730   79   79]\n",
      " [ 959  681  118  118]\n",
      " [3192 2275   77   77]\n",
      " [ 352 2238  116  116]\n",
      " [1680 2463  197  197]\n",
      " [2109 3355  348  348]\n",
      " [1554  700   53   53]\n",
      " [ 686 1371   70   70]\n",
      " [2072  357   61   61]\n",
      " [1852 1426   64   64]\n",
      " [2070  168   51   51]\n",
      " [ 817 1958  124  124]\n",
      " [  72  847  116  116]\n",
      " [2628   58   71   71]\n",
      " [2567 3155   59   59]\n",
      " [2260 3060   62   62]\n",
      " [1596  736   28   28]\n",
      " [2688 1478   29   29]\n",
      " [ 903 3571   58   58]\n",
      " [2608 3706   61   61]\n",
      " [1972 4542   53   53]\n",
      " [2298  585   64   64]\n",
      " [ 409 2242   30   30]\n",
      " [1997 3963  503  503]\n",
      " [1539  121   69   69]\n",
      " [1968  276   73   73]\n",
      " [ 376  582   55   55]\n",
      " [ 286 2499   50   50]\n",
      " [ 319 3604  108  108]\n",
      " [  16  168  134  134]\n",
      " [1382 3510   58   58]\n",
      " [2648 4264   83   83]\n",
      " [ 272 1806   26   26]\n",
      " [ 719 4280   83   83]\n",
      " [2322 2377   27   27]\n",
      " [2927 2965   51   51]]\n",
      "535 2137\n",
      "27 27\n",
      "2120 2423\n",
      "36 36\n",
      "823 1516\n",
      "42 42\n",
      "811 42\n",
      "33 33\n",
      "1749 602\n",
      "68 68\n",
      "2191 2726\n",
      "60 60\n",
      "311 2718\n",
      "43 43\n",
      "1883 1570\n",
      "53 53\n",
      "2056 3037\n",
      "55 55\n",
      "3292 2793\n",
      "56 56\n",
      "2750 3096\n",
      "70 70\n",
      "1687 657\n",
      "91 91\n",
      "2445 2994\n",
      "75 75\n",
      "1503 2204\n",
      "75 75\n",
      "3250 1527\n",
      "145 145\n",
      "453 2730\n",
      "79 79\n",
      "959 681\n",
      "118 118\n",
      "3192 2275\n",
      "77 77\n",
      "352 2238\n",
      "116 116\n",
      "1680 2463\n",
      "197 197\n",
      "2109 3355\n",
      "348 348\n",
      "1554 700\n",
      "53 53\n",
      "686 1371\n",
      "70 70\n",
      "2072 357\n",
      "61 61\n",
      "1852 1426\n",
      "64 64\n",
      "2070 168\n",
      "51 51\n",
      "817 1958\n",
      "124 124\n",
      "72 847\n",
      "116 116\n",
      "2628 58\n",
      "71 71\n",
      "2567 3155\n",
      "59 59\n",
      "2260 3060\n",
      "62 62\n",
      "1596 736\n",
      "28 28\n",
      "2688 1478\n",
      "29 29\n",
      "903 3571\n",
      "58 58\n",
      "2608 3706\n",
      "61 61\n",
      "1972 4542\n",
      "53 53\n",
      "2298 585\n",
      "64 64\n",
      "409 2242\n",
      "30 30\n",
      "1997 3963\n",
      "503 503\n",
      "1539 121\n",
      "69 69\n",
      "1968 276\n",
      "73 73\n",
      "376 582\n",
      "55 55\n",
      "286 2499\n",
      "50 50\n",
      "319 3604\n",
      "108 108\n",
      "16 168\n",
      "134 134\n",
      "1382 3510\n",
      "58 58\n",
      "2648 4264\n",
      "83 83\n",
      "272 1806\n",
      "26 26\n",
      "719 4280\n",
      "83 83\n",
      "2322 2377\n",
      "27 27\n",
      "2927 2965\n",
      "51 51\n"
     ]
    }
   ],
   "source": [
    "img=cv2.imread(r'C:\\Users\\abhin\\Pictures\\IMG20231119102856.jpg',cv2.COLOR_BGR2GRAY)\n",
    "face_cascade=cv2.CascadeClassifier('haarcascade_frontalface_default.xml')\n",
    "faces=face_cascade.detectMultiScale(img,1.1,4)\n",
    "print(faces)\n",
    "for (x,y,w,h) in faces:\n",
    "    print(x,y)\n",
    "    print(w,h)\n",
    "    cv2.rectangle(img,(x,y),(x+w,y+h),(0,0,255),3)   # B G  R  Red Is ON\n",
    "    cv2.imshow('image',img)\n",
    "cv2.waitKey(0)\n",
    "cv2.destroyAllWindows()\n",
    "    "
   ]
  },
  {
   "cell_type": "code",
   "execution_count": null,
   "metadata": {},
   "outputs": [],
   "source": [
    "#face_cascade = cv2.CascadeClassifier(cv2.data.haarcascades + 'haarcascade_frontalface_default.xml')\n",
    "#eye_cascade = cv2.CascadeClassifier(cv2.data.haarcascades + 'haarcascade_eye.xml')"
   ]
  },
  {
   "cell_type": "markdown",
   "metadata": {},
   "source": [
    "#### Video:"
   ]
  },
  {
   "cell_type": "code",
   "execution_count": 9,
   "metadata": {},
   "outputs": [],
   "source": [
    "cap=cv2.VideoCapture(0)\n",
    "while cap.isOpened():  # True or False\n",
    "    has_frame,frame=cap.read() # cap.read will give two\n",
    "    imag=cv2.cvtColor(frame,cv2.COLOR_BGR2GRAY)\n",
    "    faces=face_cascade.detectMultiScale(imag,1.1,4)\n",
    "    for (x,y,w,h) in faces:\n",
    "        cv2.rectangle(imag,(x,y),(x+h,y+w),(255,0,0),3)\n",
    "    cv2.imshow('image',imag)\n",
    "    if cv2.waitKey(1) & 0xFF== ord('q'):\n",
    "        break\n",
    "cap.release()\n",
    "cv2.destroyAllWindows() \n"
   ]
  },
  {
   "cell_type": "markdown",
   "metadata": {},
   "source": [
    "#### With eyeball:"
   ]
  },
  {
   "cell_type": "code",
   "execution_count": 10,
   "metadata": {},
   "outputs": [],
   "source": [
    "import cv2\n",
    "eye_cascade=cv2.CascadeClassifier('haarcascade_eye.xml')\n",
    "face_cascade=cv2.CascadeClassifier('haarcascade_frontalface_default.xml')"
   ]
  },
  {
   "cell_type": "code",
   "execution_count": 11,
   "metadata": {},
   "outputs": [],
   "source": [
    "img=cv2.imread(r'C:\\Users\\abhin\\Downloads\\Joseph_Siffrein_Duplessis_-_Benjamin_Franklin_-_Google_Art_Project.jpg',\n",
    "               cv2.COLOR_BGR2GRAY)"
   ]
  },
  {
   "cell_type": "code",
   "execution_count": 12,
   "metadata": {},
   "outputs": [],
   "source": [
    "cap=cv2.VideoCapture(0)\n",
    "while True:\n",
    "    has_frame,frame=cap.read()\n",
    "    gray=cv2.cvtColor(frame,cv2.COLOR_BGR2GRAY)\n",
    "    faces=face_cascade.detectMultiScale(gray,1.3,5)\n",
    "    for (x,y,w,h) in faces:\n",
    "        cv2.rectangle(frame,(x,y),(x+w,y+h),(255,0,0),2)\n",
    "        roi_gray=gray[y:y+h,x:x+w] #region of the image\n",
    "        roi_color=frame[y:y+h,x:x+w]\n",
    "        eyes=eye_cascade.detectMultiScale(roi_gray)\n",
    "        for (e_x,e_y,e_w,e_h) in eyes:\n",
    "            cv2.rectangle(roi_color,(e_x,e_y),(e_x+e_w,e_y+e_h),(0,255,0),2)\n",
    "    cv2.imshow('imag',frame)\n",
    "    if cv2.waitKey(1) & 0xFF==ord('q'):\n",
    "        break\n",
    "cap.release()\n",
    "cv2.destroyAllWindows()"
   ]
  },
  {
   "cell_type": "code",
   "execution_count": null,
   "metadata": {},
   "outputs": [],
   "source": []
  }
 ],
 "metadata": {
  "kernelspec": {
   "display_name": "Python 3 (ipykernel)",
   "language": "python",
   "name": "python3"
  },
  "language_info": {
   "codemirror_mode": {
    "name": "ipython",
    "version": 3
   },
   "file_extension": ".py",
   "mimetype": "text/x-python",
   "name": "python",
   "nbconvert_exporter": "python",
   "pygments_lexer": "ipython3",
   "version": "3.11.5"
  }
 },
 "nbformat": 4,
 "nbformat_minor": 2
}
